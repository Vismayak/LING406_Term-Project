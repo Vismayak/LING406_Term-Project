{
 "cells": [
  {
   "cell_type": "markdown",
   "metadata": {},
   "source": [
    "# Term Project \n",
    "## Sentiment Classifier\n",
    "### Name - Vismayak Mohanarajan (mohanar2)"
   ]
  },
  {
   "cell_type": "markdown",
   "metadata": {},
   "source": [
    "The aim of the project is to create a sentiment classifer that analyzes data and classifies it into two categories- positive or negative. The goal is to start with a baseline system and improve it till we get a performant system. "
   ]
  },
  {
   "cell_type": "markdown",
   "metadata": {},
   "source": [
    "The first step is to import the various python libraries that would be needed in the code"
   ]
  },
  {
   "cell_type": "code",
   "execution_count": 1,
   "metadata": {
    "collapsed": true
   },
   "outputs": [],
   "source": [
    "import nltk\n",
    "import numpy as np\n",
    "import math\n",
    "import glob\n",
    "from string import punctuation\n",
    "from nltk.corpus import stopwords\n",
    "from collections import Counter"
   ]
  },
  {
   "cell_type": "markdown",
   "metadata": {
    "collapsed": true
   },
   "source": [
    "## Baseline System\n",
    "### Bag-Of-Words"
   ]
  },
  {
   "cell_type": "markdown",
   "metadata": {
    "collapsed": true
   },
   "source": [
    "We first use a basic Bag-of-Words approach to help analyze the text. To create a Bag-Of-Words we need to perform the following steps:-"
   ]
  },
  {
   "cell_type": "markdown",
   "metadata": {},
   "source": [
    "#### Extracting Lexicons"
   ]
  },
  {
   "cell_type": "code",
   "execution_count": 2,
   "metadata": {},
   "outputs": [],
   "source": [
    "#creating negative lexicon\n",
    "with open(\"negative-words.txt\",encoding = \"ISO-8859-1\") as file:\n",
    "    content = file.readlines()\n",
    "content = [x.strip() for x in content] \n",
    "negative_words = [x for x in content if not x.startswith(\";\")]\n",
    "negative_words.remove('') # removing observed garbage value\n",
    "\n",
    "#creating positive lexicon\n",
    "with open(\"positive-words.txt\",encoding = \"ISO-8859-1\") as file:\n",
    "    content = file.readlines()\n",
    "content = [x.strip() for x in content] \n",
    "positive_words = [x for x in content if not x.startswith(\";\")]\n",
    "positive_words.remove('')\n",
    "\n"
   ]
  },
  {
   "cell_type": "markdown",
   "metadata": {},
   "source": [
    "#### Extracting the Text"
   ]
  },
  {
   "cell_type": "code",
   "execution_count": 3,
   "metadata": {
    "collapsed": true
   },
   "outputs": [],
   "source": [
    "#function to help read the text\n",
    "def read_file(filename):\n",
    "    with open(filename) as file:  \n",
    "        data = file.read()\n",
    "    return data\n",
    "\n",
    "#Testing for the read function \n",
    "# text = read_file(\"review_polarity/txt_sentoken/pos/cv199_9629.txt\")\n",
    "# print(text)\n",
    "    "
   ]
  },
  {
   "cell_type": "markdown",
   "metadata": {},
   "source": [
    "#### Cleaning the Text"
   ]
  },
  {
   "cell_type": "code",
   "execution_count": 4,
   "metadata": {
    "collapsed": true
   },
   "outputs": [],
   "source": [
    "# function to help clean the text\n",
    "def clean_text(text):\n",
    "    temp_text =\"\"\n",
    "    # first let us remove all the punctuation in the text \n",
    "    for i in text:\n",
    "        if i not in punctuation:\n",
    "             temp_text=temp_text +i\n",
    "    tokens = text.split()\n",
    "    #then remove all numerical text from the tokens\n",
    "    tokens = [word for word in tokens if word.isalpha()]\n",
    "    # the next step is to remove all stop words from the text\n",
    "    stop_words = set(stopwords.words('english'))\n",
    "    tokens = [w for w in tokens if not w in stop_words]\n",
    "    return tokens\n",
    "\n",
    "# Testing of the cleaning text function \n",
    "# words = clean_text(text=text)\n",
    "# print(words)"
   ]
  },
  {
   "cell_type": "markdown",
   "metadata": {},
   "source": [
    "#### Defining the Vocabulary (The vocabulary needs to be constantly updated)"
   ]
  },
  {
   "cell_type": "code",
   "execution_count": 5,
   "metadata": {
    "collapsed": true
   },
   "outputs": [],
   "source": [
    "def update_vocab(filename,vocab):\n",
    "    tokens = clean_text(read_file(filename))\n",
    "    vocab.update(tokens)\n",
    "#testing for this function\n",
    "# update_vocab(\"review_polarity/txt_sentoken/pos/cv199_9629.txt\")\n",
    "# print(vocab.most_common(50))"
   ]
  },
  {
   "cell_type": "markdown",
   "metadata": {},
   "source": [
    "#### Function to read all the files in  the directory"
   ]
  },
  {
   "cell_type": "code",
   "execution_count": 6,
   "metadata": {
    "collapsed": true
   },
   "outputs": [],
   "source": [
    "#function reads all files and updates vocabulary \n",
    "def read_directory(directory,vocab):\n",
    "    for name in glob.glob(directory +'cv[0-6]*'):\n",
    "        #print(name)\n",
    "        update_vocab(name,vocab)\n",
    "\n",
    "#testing for the function\n",
    "# read_directory(\"review_polarity/txt_sentoken/pos/\")\n",
    "# read_directory(\"review_polarity/txt_sentoken/neg/\")\n",
    "# print(len(vocab))\n",
    "#print(vocab)"
   ]
  },
  {
   "cell_type": "markdown",
   "metadata": {},
   "source": [
    "#### Eliminating some of the minimum occurring words and saving the vocabulary as a file"
   ]
  },
  {
   "cell_type": "code",
   "execution_count": 7,
   "metadata": {
    "collapsed": true
   },
   "outputs": [],
   "source": [
    "def save_vocab(vocab):\n",
    "    minimum_occurance = 2\n",
    "    voc = [i for i,j in vocab if j>= minimum_occurance]\n",
    "    return voc\n",
    "#     with open(filename,'w+') as file:\n",
    "#         for i in vocabulary:\n",
    "#             file.write(i+\"\\n\")\n",
    "#     print(len(vocabulary))\n",
    "#testing function\n",
    "# save_vocab(\"vocab.txt\")"
   ]
  },
  {
   "cell_type": "markdown",
   "metadata": {},
   "source": [
    "### Creating the Vocabulary using the previous functions"
   ]
  },
  {
   "cell_type": "code",
   "execution_count": 8,
   "metadata": {},
   "outputs": [
    {
     "ename": "ValueError",
     "evalue": "too many values to unpack (expected 2)",
     "output_type": "error",
     "traceback": [
      "\u001b[0;31m---------------------------------------------------------------------------\u001b[0m",
      "\u001b[0;31mValueError\u001b[0m                                Traceback (most recent call last)",
      "\u001b[0;32m<ipython-input-8-6dc0fbdd88db>\u001b[0m in \u001b[0;36m<module>\u001b[0;34m()\u001b[0m\n\u001b[1;32m     10\u001b[0m \u001b[0;31m# print(pos_vocab.most_common(5000))\u001b[0m\u001b[0;34m\u001b[0m\u001b[0;34m\u001b[0m\u001b[0m\n\u001b[1;32m     11\u001b[0m \u001b[0;31m#Removing words that hardly occur\u001b[0m\u001b[0;34m\u001b[0m\u001b[0;34m\u001b[0m\u001b[0m\n\u001b[0;32m---> 12\u001b[0;31m \u001b[0mpos_vocabulary\u001b[0m\u001b[0;34m=\u001b[0m \u001b[0msave_vocab\u001b[0m\u001b[0;34m(\u001b[0m\u001b[0mpos_vocab\u001b[0m\u001b[0;34m)\u001b[0m\u001b[0;34m\u001b[0m\u001b[0m\n\u001b[0m\u001b[1;32m     13\u001b[0m \u001b[0mneg_vocabulary\u001b[0m \u001b[0;34m=\u001b[0m \u001b[0msave_vocab\u001b[0m\u001b[0;34m(\u001b[0m\u001b[0mneg_vocab\u001b[0m\u001b[0;34m)\u001b[0m\u001b[0;34m\u001b[0m\u001b[0m\n\u001b[1;32m     14\u001b[0m \u001b[0;31m#print(pos_vocabulary)\u001b[0m\u001b[0;34m\u001b[0m\u001b[0;34m\u001b[0m\u001b[0m\n",
      "\u001b[0;32m<ipython-input-7-b95ec38ee7c5>\u001b[0m in \u001b[0;36msave_vocab\u001b[0;34m(vocab)\u001b[0m\n\u001b[1;32m      1\u001b[0m \u001b[0;32mdef\u001b[0m \u001b[0msave_vocab\u001b[0m\u001b[0;34m(\u001b[0m\u001b[0mvocab\u001b[0m\u001b[0;34m)\u001b[0m\u001b[0;34m:\u001b[0m\u001b[0;34m\u001b[0m\u001b[0m\n\u001b[1;32m      2\u001b[0m     \u001b[0mminimum_occurance\u001b[0m \u001b[0;34m=\u001b[0m \u001b[0;36m2\u001b[0m\u001b[0;34m\u001b[0m\u001b[0m\n\u001b[0;32m----> 3\u001b[0;31m     \u001b[0mvoc\u001b[0m \u001b[0;34m=\u001b[0m \u001b[0;34m[\u001b[0m\u001b[0mi\u001b[0m \u001b[0;32mfor\u001b[0m \u001b[0mi\u001b[0m\u001b[0;34m,\u001b[0m\u001b[0mj\u001b[0m \u001b[0;32min\u001b[0m \u001b[0mvocab\u001b[0m \u001b[0;32mif\u001b[0m \u001b[0mj\u001b[0m\u001b[0;34m>=\u001b[0m \u001b[0mminimum_occurance\u001b[0m\u001b[0;34m]\u001b[0m\u001b[0;34m\u001b[0m\u001b[0m\n\u001b[0m\u001b[1;32m      4\u001b[0m     \u001b[0;32mreturn\u001b[0m \u001b[0mvoc\u001b[0m\u001b[0;34m\u001b[0m\u001b[0m\n\u001b[1;32m      5\u001b[0m \u001b[0;31m#     with open(filename,'w+') as file:\u001b[0m\u001b[0;34m\u001b[0m\u001b[0;34m\u001b[0m\u001b[0m\n",
      "\u001b[0;32m<ipython-input-7-b95ec38ee7c5>\u001b[0m in \u001b[0;36m<listcomp>\u001b[0;34m(.0)\u001b[0m\n\u001b[1;32m      1\u001b[0m \u001b[0;32mdef\u001b[0m \u001b[0msave_vocab\u001b[0m\u001b[0;34m(\u001b[0m\u001b[0mvocab\u001b[0m\u001b[0;34m)\u001b[0m\u001b[0;34m:\u001b[0m\u001b[0;34m\u001b[0m\u001b[0m\n\u001b[1;32m      2\u001b[0m     \u001b[0mminimum_occurance\u001b[0m \u001b[0;34m=\u001b[0m \u001b[0;36m2\u001b[0m\u001b[0;34m\u001b[0m\u001b[0m\n\u001b[0;32m----> 3\u001b[0;31m     \u001b[0mvoc\u001b[0m \u001b[0;34m=\u001b[0m \u001b[0;34m[\u001b[0m\u001b[0mi\u001b[0m \u001b[0;32mfor\u001b[0m \u001b[0mi\u001b[0m\u001b[0;34m,\u001b[0m\u001b[0mj\u001b[0m \u001b[0;32min\u001b[0m \u001b[0mvocab\u001b[0m \u001b[0;32mif\u001b[0m \u001b[0mj\u001b[0m\u001b[0;34m>=\u001b[0m \u001b[0mminimum_occurance\u001b[0m\u001b[0;34m]\u001b[0m\u001b[0;34m\u001b[0m\u001b[0m\n\u001b[0m\u001b[1;32m      4\u001b[0m     \u001b[0;32mreturn\u001b[0m \u001b[0mvoc\u001b[0m\u001b[0;34m\u001b[0m\u001b[0m\n\u001b[1;32m      5\u001b[0m \u001b[0;31m#     with open(filename,'w+') as file:\u001b[0m\u001b[0;34m\u001b[0m\u001b[0;34m\u001b[0m\u001b[0m\n",
      "\u001b[0;31mValueError\u001b[0m: too many values to unpack (expected 2)"
     ]
    }
   ],
   "source": [
    "# A counter that would be used for vocabulary\n",
    "pos_vocab = Counter() # initialize the counter to be used throughout\n",
    "neg_vocab = Counter()\n",
    "\n",
    "#making vocab from training functions\n",
    "read_directory(\"review_polarity/txt_sentoken/pos/\",pos_vocab)\n",
    "read_directory(\"review_polarity/txt_sentoken/neg/\",neg_vocab)\n",
    "#print([(i,pos_vocab[i]) for i in pos_vocab])\n",
    "\n",
    "# print(pos_vocab.most_common(5000))\n",
    "#Removing words that hardly occur\n",
    "pos_vocabulary= save_vocab(pos_vocab) \n",
    "neg_vocabulary = save_vocab(neg_vocab)\n",
    "#print(pos_vocabulary)\n",
    "\n",
    "#Removing words that are not in lexicon\n",
    "pos_vocabulary = [i for i in pos_vocabulary if i in positive_words]\n",
    "neg_vocabulary = [i for i in neg_vocabulary if i in negative_words]\n",
    "#print(pos_vocabulary)\n",
    "#print(len(pos_vocab.most_common(5000)))\n",
    "# print(Vocabulary)\n",
    "# print(vocab)"
   ]
  },
  {
   "cell_type": "markdown",
   "metadata": {},
   "source": [
    "### Testing"
   ]
  },
  {
   "cell_type": "code",
   "execution_count": null,
   "metadata": {
    "collapsed": true
   },
   "outputs": [],
   "source": [
    "def test_directory(directory):\n",
    "    pos =0\n",
    "    neg = 0\n",
    "    pos_sum =0\n",
    "    neg_sum = 0\n",
    "    \n",
    "    #the following lines were used to make weighted additions but the accuracy fell because of \n",
    "    #discrepancies in the neative vocab data\n",
    "#     for i in pos_vocabulary:\n",
    "#         pos_sum += pos_vocab[i]\n",
    "#     pos_sum = pos_sum/len(pos_vocabulary)\n",
    "#     for i in pos_vocabulary:\n",
    "#         neg_sum += neg_vocab[i]\n",
    "#     neg_sum = neg_sum/len(neg_vocabulary)\n",
    "    for name in glob.glob(directory +'cv[7-9]*'):\n",
    "        tokens = clean_text(read_file(name))\n",
    "        pos_decision =0\n",
    "        neg_decision = 0\n",
    "        for i in tokens:\n",
    "            if i in pos_vocabulary:\n",
    "                pos_decision += 1 #* pos_vocab[i]/pos_sum   # weights were taken off cos of reason stated above\n",
    "            if i in neg_vocabulary:\n",
    "                neg_decision +=1 #* neg_vocab[i]/neg_sum\n",
    "        if pos_decision > neg_decision :\n",
    "            pos += 1\n",
    "        else:\n",
    "            neg += 1\n",
    "    return pos,neg\n",
    "\n",
    "#testing the function \n",
    "# a,b = test_directory(\"review_polarity/txt_sentoken/pos/\")\n",
    "# print(a)\n",
    "# print(b)"
   ]
  },
  {
   "cell_type": "code",
   "execution_count": null,
   "metadata": {},
   "outputs": [],
   "source": [
    "#let us now calculate the accuracy of the baseline system\n",
    "pos,neg = test_directory(\"review_polarity/txt_sentoken/pos/\") #we are testing on the positive files\n",
    "print(pos,neg)\n",
    "\n",
    "correct = pos # makes sense because the correct ones would be the number of postives\n",
    "total = pos + neg\n",
    "\n",
    "pos,neg = test_directory(\"review_polarity/txt_sentoken/neg/\") #we are testing on the negative files\n",
    "print(pos,neg)\n",
    "\n",
    "correct += neg \n",
    "total += pos + neg\n",
    "\n",
    "accuracy =  correct/total *100 \n",
    "\n",
    "print (\"Accuracy is \"+ str(accuracy))\n"
   ]
  }
 ],
 "metadata": {
  "kernelspec": {
   "display_name": "Python 3",
   "language": "python",
   "name": "python3"
  },
  "language_info": {
   "codemirror_mode": {
    "name": "ipython",
    "version": 3
   },
   "file_extension": ".py",
   "mimetype": "text/x-python",
   "name": "python",
   "nbconvert_exporter": "python",
   "pygments_lexer": "ipython3",
   "version": "3.6.5"
  }
 },
 "nbformat": 4,
 "nbformat_minor": 2
}
