{
 "cells": [
  {
   "cell_type": "markdown",
   "metadata": {},
   "source": [
    "# Term Project \n",
    "## Sentiment Classifier\n",
    "### Name - Vismayak Mohanarajan (mohanar2)"
   ]
  },
  {
   "cell_type": "markdown",
   "metadata": {},
   "source": [
    "The aim of the project is to create a sentiment classifer that analyzes data and classifies it into two categories- positive or negative. The goal is to start with a baseline system and improve it till we get a performant system. "
   ]
  },
  {
   "cell_type": "markdown",
   "metadata": {},
   "source": [
    "The first step is to import the various python libraries that would be needed in the code"
   ]
  },
  {
   "cell_type": "code",
   "execution_count": 11,
   "metadata": {
    "collapsed": true
   },
   "outputs": [],
   "source": [
    "import nltk\n",
    "import numpy as np\n",
    "import math\n",
    "import glob\n",
    "from string import punctuation\n",
    "from nltk.corpus import stopwords\n",
    "from collections import Counter"
   ]
  },
  {
   "cell_type": "markdown",
   "metadata": {
    "collapsed": true
   },
   "source": [
    "## Baseline System\n",
    "### Bag-Of-Words"
   ]
  },
  {
   "cell_type": "markdown",
   "metadata": {
    "collapsed": true
   },
   "source": [
    "We first use a basic Bag-of-Words approach to help analyze the text. To create a Bag-Of-Words we need to perform the following steps:-"
   ]
  },
  {
   "cell_type": "markdown",
   "metadata": {},
   "source": [
    "#### Extracting the Text"
   ]
  },
  {
   "cell_type": "code",
   "execution_count": 12,
   "metadata": {
    "collapsed": true
   },
   "outputs": [],
   "source": [
    "#function to help read the text\n",
    "def read_file(filename):\n",
    "    with open(filename) as file:  \n",
    "        data = file.read()\n",
    "    return data\n",
    "\n",
    "#Testing for the read function \n",
    "# text = read_file(\"review_polarity/txt_sentoken/pos/cv199_9629.txt\")\n",
    "# print(text)\n",
    "    "
   ]
  },
  {
   "cell_type": "markdown",
   "metadata": {},
   "source": [
    "#### Defining the Vocabulary (The vocabulary needs to be constantly updated)"
   ]
  },
  {
   "cell_type": "code",
   "execution_count": 13,
   "metadata": {
    "collapsed": true
   },
   "outputs": [],
   "source": [
    "def update_vocab(filename,vocab):\n",
    "    text = read_file(filename)\n",
    "    tokens = text.split()\n",
    "    vocab.update(tokens)\n",
    "#testing for this function\n",
    "# update_vocab(\"review_polarity/txt_sentoken/pos/cv199_9629.txt\")\n",
    "# print(vocab.most_common(50))"
   ]
  },
  {
   "cell_type": "markdown",
   "metadata": {},
   "source": [
    "#### Function to read all the files in  the directory"
   ]
  },
  {
   "cell_type": "code",
   "execution_count": 14,
   "metadata": {
    "collapsed": true
   },
   "outputs": [],
   "source": [
    "#function reads all files and updates vocabulary \n",
    "def read_directory(directory,vocab):\n",
    "    for name in glob.glob(directory +'cv[0-6]*'):\n",
    "        #print(name)\n",
    "        update_vocab(name,vocab)\n",
    "\n",
    "#testing for the function\n",
    "# read_directory(\"review_polarity/txt_sentoken/pos/\")\n",
    "# read_directory(\"review_polarity/txt_sentoken/neg/\")\n",
    "# print(len(vocab))\n",
    "#print(vocab)"
   ]
  },
  {
   "cell_type": "markdown",
   "metadata": {},
   "source": [
    "#### Saving the vocabulary as a list"
   ]
  },
  {
   "cell_type": "code",
   "execution_count": 15,
   "metadata": {
    "collapsed": true
   },
   "outputs": [],
   "source": [
    "def save_vocab(vocab):\n",
    "    voc = [i for i,j in vocab.items()]\n",
    "    return voc"
   ]
  },
  {
   "cell_type": "markdown",
   "metadata": {},
   "source": [
    "### Creating the Vocabulary using the previous functions"
   ]
  },
  {
   "cell_type": "code",
   "execution_count": 16,
   "metadata": {
    "collapsed": true
   },
   "outputs": [],
   "source": [
    "# A counter that would be used for vocabulary\n",
    "pos_vocab = Counter() # initialize the counter to be used throughout\n",
    "neg_vocab = Counter()\n",
    "\n",
    "#making vocab from training functions\n",
    "read_directory(\"review_polarity/txt_sentoken/pos/\",pos_vocab)\n",
    "read_directory(\"review_polarity/txt_sentoken/neg/\",neg_vocab)\n",
    "#print([(i,pos_vocab[i]) for i in pos_vocab])\n",
    "\n",
    "#Removing words that hardly occur\n",
    "pos_vocabulary= save_vocab(pos_vocab) # sent in the most frequent words\n",
    "neg_vocabulary = save_vocab(neg_vocab)\n",
    "# print(pos_vocabulary)\n"
   ]
  },
  {
   "cell_type": "markdown",
   "metadata": {},
   "source": [
    "### Testing"
   ]
  },
  {
   "cell_type": "code",
   "execution_count": 17,
   "metadata": {
    "collapsed": true
   },
   "outputs": [],
   "source": [
    "def test_directory(directory):\n",
    "    pos =0\n",
    "    neg = 0\n",
    "    pos_sum =0\n",
    "    neg_sum = 0\n",
    "    \n",
    "    for name in glob.glob(directory +'cv[7-9]*'):\n",
    "        text= read_file(name)\n",
    "        tokens = text.split()\n",
    "        pos_decision =0\n",
    "        neg_decision = 0\n",
    "        for i in tokens:\n",
    "            if i in pos_vocabulary:\n",
    "                pos_decision += 1 \n",
    "            if i in neg_vocabulary:\n",
    "                neg_decision +=1 \n",
    "        if pos_decision >= neg_decision :\n",
    "            pos += 1\n",
    "        else:\n",
    "            neg += 1\n",
    "    return pos,neg\n",
    "\n",
    "#testing the function \n",
    "# a,b = test_directory(\"review_polarity/txt_sentoken/pos/\")\n",
    "# print(a)\n",
    "# print(b)"
   ]
  },
  {
   "cell_type": "code",
   "execution_count": 19,
   "metadata": {},
   "outputs": [
    {
     "name": "stdout",
     "output_type": "stream",
     "text": [
      "212 88\n",
      "118 182\n",
      "Accuracy is 65.66666666666666\n",
      "Precision is 64.24242424242425\n",
      "Recall is 70.66666666666667\n"
     ]
    }
   ],
   "source": [
    "#let us now calculate the accuracy of the baseline system\n",
    "pos,neg = test_directory(\"review_polarity/txt_sentoken/pos/\") #we are testing on the positive files\n",
    "print(pos,neg)\n",
    "\n",
    "correct = pos # makes sense because the correct ones would be the number of postives\n",
    "total = pos + neg\n",
    "\n",
    "tp = pos      #true positive\n",
    "fn = neg      #false negative \n",
    "\n",
    "\n",
    "pos,neg = test_directory(\"review_polarity/txt_sentoken/neg/\") #we are testing on the negative files\n",
    "print(pos,neg)\n",
    "\n",
    "fp = pos     #false postive \n",
    "\n",
    "correct += neg \n",
    "total += pos + neg\n",
    "\n",
    "recall = tp/(tp+fn) * 100 \n",
    "precision = tp/(tp+fp) * 100\n",
    "accuracy =  correct/total *100 \n",
    "\n",
    "print (\"Accuracy is \"+ str(accuracy))\n",
    "print (\"Precision is \"+ str(precision))\n",
    "print (\"Recall is \"+ str(recall))\n"
   ]
  }
 ],
 "metadata": {
  "kernelspec": {
   "display_name": "Python 3",
   "language": "python",
   "name": "python3"
  },
  "language_info": {
   "codemirror_mode": {
    "name": "ipython",
    "version": 3
   },
   "file_extension": ".py",
   "mimetype": "text/x-python",
   "name": "python",
   "nbconvert_exporter": "python",
   "pygments_lexer": "ipython3",
   "version": "3.6.5"
  }
 },
 "nbformat": 4,
 "nbformat_minor": 2
}
